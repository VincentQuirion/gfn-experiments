{
 "cells": [
  {
   "attachments": {},
   "cell_type": "markdown",
   "metadata": {},
   "source": [
    "**Idx-aware GFN for better sample diversity**\n",
    "\n",
    "First experiments in the hypergrid toy environment"
   ]
  },
  {
   "attachments": {},
   "cell_type": "markdown",
   "metadata": {},
   "source": [
    "**Sanity check for a GFN that is not parameterized with the idx**"
   ]
  },
  {
   "cell_type": "code",
   "execution_count": 1,
   "metadata": {},
   "outputs": [
    {
     "name": "stderr",
     "output_type": "stream",
     "text": [
      "/home/mila/v/vincent.quirion/.conda/envs/gfnenv/lib/python3.10/site-packages/tqdm/auto.py:22: TqdmWarning: IProgress not found. Please update jupyter and ipywidgets. See https://ipywidgets.readthedocs.io/en/stable/user_install.html\n",
      "  from .autonotebook import tqdm as notebook_tqdm\n"
     ]
    }
   ],
   "source": [
    "# Imports\n",
    "import torch\n",
    "import wandb\n",
    "from tqdm import tqdm\n",
    "from matplotlib import pyplot as plt\n",
    "import numpy as np\n",
    "\n",
    "from gfn import LogitPBEstimator, LogitPFEstimator, LogZEstimator\n",
    "from gfn.envs import HyperGrid, IdxAwareHyperGrid\n",
    "from gfn.losses import TBParametrization, TrajectoryBalance\n",
    "from gfn.samplers import DiscreteActionsSampler, TrajectoriesSampler\n",
    "from gfn.utils import validate\n",
    "\n",
    "device_str = \"cuda\" if torch.cuda.is_available() else \"cpu\""
   ]
  },
  {
   "attachments": {},
   "cell_type": "markdown",
   "metadata": {},
   "source": [
    "Then use a GFN that partitions the state space perfectly"
   ]
  },
  {
   "cell_type": "code",
   "execution_count": 2,
   "metadata": {},
   "outputs": [
    {
     "name": "stderr",
     "output_type": "stream",
     "text": [
      "Failed to detect the name of this notebook, you can set it manually with the WANDB_NOTEBOOK_NAME environment variable to enable code saving.\n",
      "\u001b[34m\u001b[1mwandb\u001b[0m: Currently logged in as: \u001b[33mvincent-quirion\u001b[0m. Use \u001b[1m`wandb login --relogin`\u001b[0m to force relogin\n"
     ]
    },
    {
     "data": {
      "text/html": [
       "Tracking run with wandb version 0.13.10"
      ],
      "text/plain": [
       "<IPython.core.display.HTML object>"
      ]
     },
     "metadata": {},
     "output_type": "display_data"
    },
    {
     "data": {
      "text/html": [
       "Run data is saved locally in <code>/home/mila/v/vincent.quirion/scratch/gfn/scripts/wandb/run-20230220_210744-tkapaqlu</code>"
      ],
      "text/plain": [
       "<IPython.core.display.HTML object>"
      ]
     },
     "metadata": {},
     "output_type": "display_data"
    },
    {
     "data": {
      "text/html": [
       "Syncing run <strong><a href='https://wandb.ai/vincent-quirion/8x8/runs/tkapaqlu' target=\"_blank\">honest-aardvark-13</a></strong> to <a href='https://wandb.ai/vincent-quirion/8x8' target=\"_blank\">Weights & Biases</a> (<a href='https://wandb.me/run' target=\"_blank\">docs</a>)<br/>"
      ],
      "text/plain": [
       "<IPython.core.display.HTML object>"
      ]
     },
     "metadata": {},
     "output_type": "display_data"
    },
    {
     "data": {
      "text/html": [
       " View project at <a href='https://wandb.ai/vincent-quirion/8x8' target=\"_blank\">https://wandb.ai/vincent-quirion/8x8</a>"
      ],
      "text/plain": [
       "<IPython.core.display.HTML object>"
      ]
     },
     "metadata": {},
     "output_type": "display_data"
    },
    {
     "data": {
      "text/html": [
       " View run at <a href='https://wandb.ai/vincent-quirion/8x8/runs/tkapaqlu' target=\"_blank\">https://wandb.ai/vincent-quirion/8x8/runs/tkapaqlu</a>"
      ],
      "text/plain": [
       "<IPython.core.display.HTML object>"
      ]
     },
     "metadata": {},
     "output_type": "display_data"
    },
    {
     "name": "stderr",
     "output_type": "stream",
     "text": [
      " 74%|███████▍  | 7424/10000 [06:34<02:16, 18.83it/s, loss=0.00121, l1 dist=0.00759] \n"
     ]
    },
    {
     "ename": "KeyboardInterrupt",
     "evalue": "",
     "output_type": "error",
     "traceback": [
      "\u001b[0;31m---------------------------------------------------------------------------\u001b[0m",
      "\u001b[0;31mKeyboardInterrupt\u001b[0m                         Traceback (most recent call last)",
      "Cell \u001b[0;32mIn[2], line 51\u001b[0m\n\u001b[1;32m     49\u001b[0m \u001b[39mfor\u001b[39;00m i \u001b[39min\u001b[39;00m (pbar \u001b[39m:=\u001b[39m tqdm(\u001b[39mrange\u001b[39m(\u001b[39m10000\u001b[39m))):\n\u001b[1;32m     50\u001b[0m     idxs \u001b[39m=\u001b[39m torch\u001b[39m.\u001b[39marange(batch_size, device\u001b[39m=\u001b[39menv\u001b[39m.\u001b[39mdevice)\u001b[39m.\u001b[39mrepeat(n_per_idxs)\n\u001b[0;32m---> 51\u001b[0m     trajectories \u001b[39m=\u001b[39m trajectories_sampler\u001b[39m.\u001b[39;49msample(n_trajectories\u001b[39m=\u001b[39;49mbatch_size \u001b[39m*\u001b[39;49m n_per_idxs, idxs\u001b[39m=\u001b[39;49midxs)\n\u001b[1;32m     52\u001b[0m     \u001b[39m# trajectories = trajectories_sampler.sample(n_trajectories=batch_size * n_per_idxs)\u001b[39;00m\n\u001b[1;32m     54\u001b[0m     optimizer\u001b[39m.\u001b[39mzero_grad()\n",
      "File \u001b[0;32m~/scratch/gfn/src/gfn/samplers/trajectories_sampler.py:141\u001b[0m, in \u001b[0;36mTrajectoriesSampler.sample\u001b[0;34m(self, n_trajectories, idxs)\u001b[0m\n\u001b[1;32m    140\u001b[0m \u001b[39mdef\u001b[39;00m \u001b[39msample\u001b[39m(\u001b[39mself\u001b[39m, n_trajectories: \u001b[39mint\u001b[39m, idxs\u001b[39m=\u001b[39m\u001b[39mNone\u001b[39;00m) \u001b[39m-\u001b[39m\u001b[39m>\u001b[39m Trajectories:\n\u001b[0;32m--> 141\u001b[0m     \u001b[39mreturn\u001b[39;00m \u001b[39mself\u001b[39;49m\u001b[39m.\u001b[39;49msample_trajectories(n_trajectories\u001b[39m=\u001b[39;49mn_trajectories, idxs\u001b[39m=\u001b[39;49midxs)\n",
      "File \u001b[0;32m~/scratch/gfn/src/gfn/samplers/trajectories_sampler.py:70\u001b[0m, in \u001b[0;36mTrajectoriesSampler.sample_trajectories\u001b[0;34m(self, states, n_trajectories, idxs)\u001b[0m\n\u001b[1;32m     67\u001b[0m \u001b[39mif\u001b[39;00m idxs \u001b[39mis\u001b[39;00m \u001b[39mNone\u001b[39;00m \u001b[39mand\u001b[39;00m \u001b[39misinstance\u001b[39m(\u001b[39mself\u001b[39m\u001b[39m.\u001b[39mactions_sampler\u001b[39m.\u001b[39mestimator\u001b[39m.\u001b[39mmodule, IdxAwareNeuralNet):\n\u001b[1;32m     68\u001b[0m     \u001b[39mraise\u001b[39;00m \u001b[39mValueError\u001b[39;00m(\u001b[39m\"\u001b[39m\u001b[39mYou must provide an idxs tensor to TrajectoriesSampler.sample_trajectories when using an IdxAwareNeuralNet\u001b[39m\u001b[39m\"\u001b[39m)\n\u001b[0;32m---> 70\u001b[0m \u001b[39mwhile\u001b[39;00m \u001b[39mnot\u001b[39;00m \u001b[39mall\u001b[39;49m(dones):\n\u001b[1;32m     71\u001b[0m     actions \u001b[39m=\u001b[39m torch\u001b[39m.\u001b[39mfull(\n\u001b[1;32m     72\u001b[0m         (n_trajectories,),\n\u001b[1;32m     73\u001b[0m         fill_value\u001b[39m=\u001b[39m\u001b[39m-\u001b[39m\u001b[39m1\u001b[39m,\n\u001b[1;32m     74\u001b[0m         dtype\u001b[39m=\u001b[39mtorch\u001b[39m.\u001b[39mlong,\n\u001b[1;32m     75\u001b[0m         device\u001b[39m=\u001b[39mdevice,\n\u001b[1;32m     76\u001b[0m     )\n\u001b[1;32m     77\u001b[0m     log_probs \u001b[39m=\u001b[39m torch\u001b[39m.\u001b[39mfull(\n\u001b[1;32m     78\u001b[0m         (n_trajectories,), fill_value\u001b[39m=\u001b[39m\u001b[39m0\u001b[39m, dtype\u001b[39m=\u001b[39mtorch\u001b[39m.\u001b[39mfloat, device\u001b[39m=\u001b[39mdevice\n\u001b[1;32m     79\u001b[0m     )\n",
      "File \u001b[0;32m~/.conda/envs/gfnenv/lib/python3.10/site-packages/torch/_tensor.py:906\u001b[0m, in \u001b[0;36mTensor.__iter__\u001b[0;34m(self)\u001b[0m\n\u001b[1;32m    896\u001b[0m         warnings\u001b[39m.\u001b[39mwarn(\n\u001b[1;32m    897\u001b[0m             \u001b[39m\"\u001b[39m\u001b[39mUsing len to get tensor shape might cause the trace to be incorrect. \u001b[39m\u001b[39m\"\u001b[39m\n\u001b[1;32m    898\u001b[0m             \u001b[39m\"\u001b[39m\u001b[39mRecommended usage would be tensor.shape[0]. \u001b[39m\u001b[39m\"\u001b[39m\n\u001b[0;32m   (...)\u001b[0m\n\u001b[1;32m    902\u001b[0m             stacklevel\u001b[39m=\u001b[39m\u001b[39m2\u001b[39m,\n\u001b[1;32m    903\u001b[0m         )\n\u001b[1;32m    904\u001b[0m     \u001b[39mreturn\u001b[39;00m \u001b[39mself\u001b[39m\u001b[39m.\u001b[39mshape[\u001b[39m0\u001b[39m]\n\u001b[0;32m--> 906\u001b[0m \u001b[39mdef\u001b[39;00m \u001b[39m__iter__\u001b[39m(\u001b[39mself\u001b[39m):\n\u001b[1;32m    907\u001b[0m     \u001b[39m# NB: we use 'imap' and not 'map' here, so that in Python 2 we get a\u001b[39;00m\n\u001b[1;32m    908\u001b[0m     \u001b[39m# generator and don't eagerly perform all the indexes.  This could\u001b[39;00m\n\u001b[1;32m    909\u001b[0m     \u001b[39m# save us work, and also helps keep trace ordering deterministic\u001b[39;00m\n\u001b[1;32m    910\u001b[0m     \u001b[39m# (e.g., if you zip(*hiddens), the eager map will force all the\u001b[39;00m\n\u001b[1;32m    911\u001b[0m     \u001b[39m# indexes of hiddens[0] before hiddens[1], while the generator\u001b[39;00m\n\u001b[1;32m    912\u001b[0m     \u001b[39m# map will interleave them.)\u001b[39;00m\n\u001b[1;32m    913\u001b[0m     \u001b[39m# NB: We have intentionally skipped __torch_function__ dispatch here.\u001b[39;00m\n\u001b[1;32m    914\u001b[0m     \u001b[39m# See gh-54457\u001b[39;00m\n\u001b[1;32m    915\u001b[0m     \u001b[39mif\u001b[39;00m \u001b[39mself\u001b[39m\u001b[39m.\u001b[39mdim() \u001b[39m==\u001b[39m \u001b[39m0\u001b[39m:\n\u001b[1;32m    916\u001b[0m         \u001b[39mraise\u001b[39;00m \u001b[39mTypeError\u001b[39;00m(\u001b[39m\"\u001b[39m\u001b[39miteration over a 0-d tensor\u001b[39m\u001b[39m\"\u001b[39m)\n",
      "\u001b[0;31mKeyboardInterrupt\u001b[0m: "
     ]
    }
   ],
   "source": [
    "batch_size = batch_size = 4\n",
    "n_validation_samples = batch_size* 25 * 100\n",
    "wandb.init(project=\"8x8\")\n",
    "\n",
    "env = IdxAwareHyperGrid(ndim=2, height=8, reward=\"8x8\", preprocessor_name=\"OneHot\", device_str=device_str)\n",
    "# env = HyperGrid(ndim=4, height=8, preprocessor_name=\"OneHot\", device_str=device_str)\n",
    "\n",
    "logit_PF = LogitPFEstimator(env=env, module_name=\"IdxAwareNeuralNet\", batch_size=batch_size)\n",
    "# logit_PF = LogitPFEstimator(env=env, module_name=\"NeuralNet\")\n",
    "\n",
    "logit_PB = LogitPBEstimator(\n",
    "    env=env,\n",
    "    module_name=\"IdxAwareNeuralNet\",\n",
    "    # module_name=\"NeuralNet\",\n",
    "    torso=logit_PF.module.torso,  # To share parameters between PF and PB\n",
    "    batch_size=batch_size,\n",
    "    embedding_layer=logit_PF.module.idx_embedding_layer, # To share parameters between PF and PB\n",
    ")\n",
    "logZ = LogZEstimator(torch.tensor(0.0))\n",
    "\n",
    "logit_PF.module.to(torch.device(device_str))\n",
    "logit_PB.module.to(torch.device(device_str))\n",
    "\n",
    "\n",
    "parametrization = TBParametrization(logit_PF, logit_PB, logZ)\n",
    "\n",
    "actions_sampler = DiscreteActionsSampler(estimator=logit_PF)\n",
    "trajectories_sampler = TrajectoriesSampler(env=env, actions_sampler=actions_sampler)\n",
    "\n",
    "loss_fn = TrajectoryBalance(parametrization=parametrization)\n",
    "\n",
    "params = [\n",
    "    {\n",
    "        \"params\": [\n",
    "            val for key, val in parametrization.parameters.items() if key != \"logZ\"\n",
    "        ],\n",
    "        \"lr\": 0.001,\n",
    "    },\n",
    "    {\"params\": [parametrization.parameters[\"logZ\"]], \"lr\": 0.1},\n",
    "]\n",
    "optimizer = torch.optim.Adam(params)\n",
    "\n",
    "n_per_idxs = 16\n",
    "\n",
    "visited_terminating_states = (\n",
    "    env.States.from_batch_shape((0,))\n",
    ")\n",
    "states_visited = 0\n",
    "for i in (pbar := tqdm(range(10000))):\n",
    "    idxs = torch.arange(batch_size, device=env.device).repeat(n_per_idxs)\n",
    "    trajectories = trajectories_sampler.sample(n_trajectories=batch_size * n_per_idxs, idxs=idxs)\n",
    "    # trajectories = trajectories_sampler.sample(n_trajectories=batch_size * n_per_idxs)\n",
    "\n",
    "    optimizer.zero_grad()\n",
    "    loss = loss_fn(trajectories, idxs)\n",
    "    # loss = loss_fn(trajectories)\n",
    "    loss.backward()\n",
    "    optimizer.step()\n",
    "    \n",
    "    if visited_terminating_states is not None:\n",
    "        visited_terminating_states.extend(trajectories.last_states)\n",
    "\n",
    "    states_visited += len(trajectories)\n",
    "    to_log = {\"loss\": loss.item(), \"states_visited\": states_visited}\n",
    "    wandb.log(to_log, step=i)\n",
    "\n",
    "    if i % 25 == 0:\n",
    "        validation_info = validate(\n",
    "            env, parametrization, n_validation_samples, visited_terminating_states\n",
    "        )\n",
    "        pbar.set_postfix({\"loss\": loss.item(), \"l1 dist\": validation_info[\"l1_dist\"]})\n",
    "        wandb.log(validation_info, step=i)\n",
    "\n",
    "trajectories_sampler3 = trajectories_sampler"
   ]
  },
  {
   "cell_type": "code",
   "execution_count": 13,
   "metadata": {},
   "outputs": [
    {
     "data": {
      "image/png": "[encoded data removed]",
      "text/plain": [
       "<Figure size 400x400 with 1 Axes>"
      ]
     },
     "metadata": {},
     "output_type": "display_data"
    },
    {
     "data": {
      "image/png": "[encoded data removed]",
      "text/plain": [
       "<Figure size 400x400 with 1 Axes>"
      ]
     },
     "metadata": {},
     "output_type": "display_data"
    },
    {
     "data": {
      "image/png": "[encoded data removed]",
      "text/plain": [
       "<Figure size 400x400 with 1 Axes>"
      ]
     },
     "metadata": {},
     "output_type": "display_data"
    },
    {
     "data": {
      "image/png": "[encoded data removed]",
      "text/plain": [
       "<Figure size 400x400 with 1 Axes>"
      ]
     },
     "metadata": {},
     "output_type": "display_data"
    },
    {
     "data": {
      "image/png": "[encoded data removed]",
      "text/plain": [
       "<Figure size 400x400 with 1 Axes>"
      ]
     },
     "metadata": {},
     "output_type": "display_data"
    }
   ],
   "source": [
    "# Set the figure size\n",
    "plt.rcParams[\"figure.figsize\"] = [4, 4]\n",
    "\n",
    "n_per_idx = 4\n",
    "\n",
    "trajectories = trajectories_sampler3.sample(n_trajectories=4 * n_per_idx, idxs=torch.tensor([0] * n_per_idx + [1] * n_per_idx + [2] * n_per_idx + [3] * n_per_idx, dtype=torch.int, device=env.device))\n",
    "\n",
    "\n",
    "data = trajectories.last_states.states_tensor.cpu().numpy()\n",
    "# Adding noise to see more points\n",
    "data = data.astype(\"float64\")\n",
    "data[0] += np.random.uniform(low=-0.25, high=0.25, size=data[0].size)\n",
    "data[1] += np.random.uniform(low=-0.25, high=0.25, size=data[1].size)\n",
    "\n",
    "\n",
    "plt.scatter(x=data[:, 0], y=data[:, 1], c=[0.25]*n_per_idx + [0.5] * n_per_idx + [0.75] * n_per_idx + [1] * n_per_idx, s=[20] * 4 * n_per_idx)\n",
    "plt.xlim(0, 8)\n",
    "plt.ylim(0, 8)\n",
    "plt.plot()\n",
    "plt.show()\n",
    "\n",
    "plt.scatter(x=data[:, 0][:n_per_idx], y=data[:, 1][:n_per_idx])\n",
    "plt.xlim(0, 8)\n",
    "plt.ylim(0, 8)\n",
    "plt.plot()\n",
    "plt.show()\n",
    "\n",
    "\n",
    "plt.xlim(0, 8)\n",
    "plt.ylim(0, 8)\n",
    "plt.scatter(x=data[:, 0][n_per_idx:n_per_idx*2], y=data[:, 1][n_per_idx:n_per_idx*2])\n",
    "plt.plot()\n",
    "plt.show()\n",
    "\n",
    "plt.xlim(0, 8)\n",
    "plt.ylim(0, 8)\n",
    "plt.scatter(x=data[:, 0][n_per_idx*2:n_per_idx*3], y=data[:, 1][n_per_idx*2:n_per_idx*3])\n",
    "plt.plot()\n",
    "plt.show()\n",
    "\n",
    "plt.xlim(0, 8)\n",
    "plt.ylim(0, 8)\n",
    "plt.scatter(x=data[:, 0][n_per_idx*3:n_per_idx*4], y=data[:, 1][n_per_idx*3:n_per_idx*4])\n",
    "plt.plot()\n",
    "plt.show()"
   ]
  }
 ],
 "metadata": {
  "kernelspec": {
   "display_name": "gfnenv",
   "language": "python",
   "name": "python3"
  },
  "language_info": {
   "codemirror_mode": {
    "name": "ipython",
    "version": 3
   },
   "file_extension": ".py",
   "mimetype": "text/x-python",
   "name": "python",
   "nbconvert_exporter": "python",
   "pygments_lexer": "ipython3",
   "version": "3.10.9"
  },
  "orig_nbformat": 4,
  "vscode": {
   "interpreter": {
    "hash": "e747b5580585a3ca9155d41ef61626d0ea0129d6c6559ae88d24b8156d79b44d"
   }
  }
 },
 "nbformat": 4,
 "nbformat_minor": 2
}
