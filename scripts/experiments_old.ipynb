{
 "cells": [
  {
   "attachments": {},
   "cell_type": "markdown",
   "metadata": {},
   "source": [
    "**Idx-aware GFN for better sample diversity**\n",
    "\n",
    "First experiments in the hypergrid toy environment"
   ]
  },
  {
   "attachments": {},
   "cell_type": "markdown",
   "metadata": {},
   "source": [
    "**Sanity check for a GFN that is not parameterized with the idx**"
   ]
  },
  {
   "cell_type": "code",
   "execution_count": 1,
   "metadata": {},
   "outputs": [
    {
     "name": "stderr",
     "output_type": "stream",
     "text": [
      "/home/mila/v/vincent.quirion/.conda/envs/gfnenv/lib/python3.10/site-packages/tqdm/auto.py:22: TqdmWarning: IProgress not found. Please update jupyter and ipywidgets. See https://ipywidgets.readthedocs.io/en/stable/user_install.html\n",
      "  from .autonotebook import tqdm as notebook_tqdm\n"
     ]
    }
   ],
   "source": [
    "# Imports\n",
    "import torch\n",
    "import wandb\n",
    "from tqdm import tqdm\n",
    "from matplotlib import pyplot as plt\n",
    "import numpy as np\n",
    "\n",
    "from gfn import LogitPBEstimator, LogitPFEstimator, LogZEstimator\n",
    "from gfn.envs import HyperGrid, IdxAwareHyperGrid\n",
    "from gfn.losses import TBParametrization, TrajectoryBalance\n",
    "from gfn.samplers import DiscreteActionsSampler, TrajectoriesSampler\n",
    "from gfn.utils import validate\n",
    "\n",
    "device_str = \"cuda\" if torch.cuda.is_available() else \"cpu\""
   ]
  },
  {
   "cell_type": "code",
   "execution_count": 12,
   "metadata": {},
   "outputs": [
    {
     "name": "stderr",
     "output_type": "stream",
     "text": [
      "100%|██████████| 1000/1000 [00:17<00:00, 56.83it/s, loss=5.42e-5]\n"
     ]
    }
   ],
   "source": [
    "batch_size = 16\n",
    "\n",
    "env = HyperGrid(ndim=2, height=8, R0=0.01, preprocessor_name=\"OneHot\")\n",
    "\n",
    "logit_PF = LogitPFEstimator(env=env, module_name=\"NeuralNet\")\n",
    "\n",
    "logit_PB = LogitPBEstimator(\n",
    "    env=env,\n",
    "    module_name=\"NeuralNet\",\n",
    "    torso=logit_PF.module.torso,  # To share parameters between PF and PB\n",
    ")\n",
    "logZ = LogZEstimator(torch.tensor(0.0))\n",
    "\n",
    "parametrization = TBParametrization(logit_PF, logit_PB, logZ)\n",
    "\n",
    "actions_sampler = DiscreteActionsSampler(estimator=logit_PF)\n",
    "trajectories_sampler = TrajectoriesSampler(env=env, actions_sampler=actions_sampler)\n",
    "\n",
    "loss_fn = TrajectoryBalance(parametrization=parametrization)\n",
    "\n",
    "params = [\n",
    "    {\n",
    "        \"params\": [\n",
    "            val for key, val in parametrization.parameters.items() if key != \"logZ\"\n",
    "        ],\n",
    "        \"lr\": 0.001,\n",
    "    },\n",
    "    {\"params\": [parametrization.parameters[\"logZ\"]], \"lr\": 0.1},\n",
    "]\n",
    "optimizer = torch.optim.Adam(params)\n",
    "\n",
    "for i in (pbar := tqdm(range(1000))):\n",
    "    idxs = torch.arange(batch_size, device=env.device)\n",
    "    trajectories = trajectories_sampler.sample(n_trajectories=batch_size)\n",
    "    optimizer.zero_grad()\n",
    "    loss = loss_fn(trajectories)\n",
    "    loss.backward()\n",
    "    optimizer.step()\n",
    "    if i % 25 == 0:\n",
    "        pbar.set_postfix({\"loss\": loss.item()})\n",
    "\n",
    "trajectories_sampler0 = trajectories_sampler"
   ]
  },
  {
   "cell_type": "code",
   "execution_count": 17,
   "metadata": {},
   "outputs": [
    {
     "data": {
      "image/png": "[encoded data removed]",
      "text/plain": [
       "<Figure size 400x400 with 1 Axes>"
      ]
     },
     "metadata": {},
     "output_type": "display_data"
    }
   ],
   "source": [
    "# Show sample distribution\n",
    "\n",
    "# Set the figure size\n",
    "plt.rcParams[\"figure.figsize\"] = [4, 4]\n",
    "\n",
    "trajectories = trajectories_sampler0.sample(n_trajectories=24)\n",
    "\n",
    "\n",
    "data = trajectories.last_states.states_tensor.numpy()\n",
    "# Adding noise to see more points\n",
    "data = data.astype(\"float64\")\n",
    "data[0] += np.random.uniform(low=-1, high=1, size=data[0].size)\n",
    "data[1] += np.random.uniform(low=-1, high=1, size=data[1].size)\n",
    "\n",
    "\n",
    "plt.scatter(x=data[:, 0], y=data[:, 1])\n",
    "plt.plot()\n",
    "plt.xlim(0, 8)\n",
    "plt.ylim(0, 8)\n",
    "plt.show()"
   ]
  },
  {
   "attachments": {},
   "cell_type": "markdown",
   "metadata": {},
   "source": [
    "**Same environment with simple reward sharing reward function**\n",
    "\n",
    "\n",
    "In a 2-dim hypergrid with a batch size of 4 (= to the number of modes), the basic \"penalize if equal to a previous sample in the batch\" strategy fails. The policy samples from the right distribution but with decreasing \"precision\" as we increase the idx. The target distribution from which the samples are from do not seem to be impacted by the idx. This is probably because the policy learned for the first idx (idx=0) is allowed to sample from every mode of the distribution and the others are also allowed to, but they get penalized at random depending on the what is sampled with idx=0."
   ]
  },
  {
   "cell_type": "code",
   "execution_count": 2,
   "metadata": {},
   "outputs": [
    {
     "ename": "NameError",
     "evalue": "name 'gfn' is not defined",
     "output_type": "error",
     "traceback": [
      "\u001b[0;31m---------------------------------------------------------------------------\u001b[0m",
      "\u001b[0;31mNameError\u001b[0m                                 Traceback (most recent call last)",
      "Cell \u001b[0;32mIn[2], line 1\u001b[0m\n\u001b[0;32m----> 1\u001b[0m gfn\u001b[39m.\u001b[39mconfig\u001b[39m.\u001b[39mbatch_size \u001b[39m=\u001b[39m batch_size \u001b[39m=\u001b[39m \u001b[39m4\u001b[39m\n\u001b[1;32m      3\u001b[0m env \u001b[39m=\u001b[39m IdxAwareHyperGrid(ndim\u001b[39m=\u001b[39m\u001b[39m2\u001b[39m, height\u001b[39m=\u001b[39m\u001b[39m8\u001b[39m, R0\u001b[39m=\u001b[39m\u001b[39m0.01\u001b[39m, preprocessor_name\u001b[39m=\u001b[39m\u001b[39m\"\u001b[39m\u001b[39mOneHot\u001b[39m\u001b[39m\"\u001b[39m)\n\u001b[1;32m      5\u001b[0m logit_PF \u001b[39m=\u001b[39m LogitPFEstimator(env\u001b[39m=\u001b[39menv, module_name\u001b[39m=\u001b[39m\u001b[39m\"\u001b[39m\u001b[39mIdxAwareNeuralNet\u001b[39m\u001b[39m\"\u001b[39m, batch_size\u001b[39m=\u001b[39mbatch_size)\n",
      "\u001b[0;31mNameError\u001b[0m: name 'gfn' is not defined"
     ]
    }
   ],
   "source": [
    "gfn.config.batch_size = batch_size = 4\n",
    "\n",
    "env = IdxAwareHyperGrid(ndim=2, height=8, R0=0.01, preprocessor_name=\"OneHot\")\n",
    "\n",
    "logit_PF = LogitPFEstimator(env=env, module_name=\"IdxAwareNeuralNet\", batch_size=batch_size)\n",
    "\n",
    "logit_PB = LogitPBEstimator(\n",
    "    env=env,\n",
    "    module_name=\"IdxAwareNeuralNet\",\n",
    "    torso=logit_PF.module.torso,  # To share parameters between PF and PB\n",
    "    batch_size=batch_size,\n",
    "    embedding_layer=logit_PF.module.idx_embedding_layer, # To share parameters between PF and PB\n",
    ")\n",
    "logZ = LogZEstimator(torch.tensor(0.0))\n",
    "\n",
    "parametrization = TBParametrization(logit_PF, logit_PB, logZ)\n",
    "\n",
    "actions_sampler = DiscreteActionsSampler(estimator=logit_PF)\n",
    "trajectories_sampler = TrajectoriesSampler(env=env, actions_sampler=actions_sampler)\n",
    "\n",
    "loss_fn = TrajectoryBalance(parametrization=parametrization)\n",
    "\n",
    "params = [\n",
    "    {\n",
    "        \"params\": [\n",
    "            val for key, val in parametrization.parameters.items() if key != \"logZ\"\n",
    "        ],\n",
    "        \"lr\": 0.001,\n",
    "    },\n",
    "    {\"params\": [parametrization.parameters[\"logZ\"]], \"lr\": 0.1},\n",
    "]\n",
    "optimizer = torch.optim.Adam(params)\n",
    "\n",
    "for i in (pbar := tqdm(range(10000))):\n",
    "    idxs = torch.arange(gfn.config.batch_size, device=env.device)\n",
    "    trajectories = trajectories_sampler.sample(n_trajectories=batch_size, idxs=idxs)\n",
    "    optimizer.zero_grad()\n",
    "    loss = loss_fn(trajectories, idxs)\n",
    "    loss.backward()\n",
    "    optimizer.step()\n",
    "    if i % 25 == 0:\n",
    "        pbar.set_postfix({\"loss\": loss.item()})\n",
    "\n",
    "trajectories_sampler1 = trajectories_sampler"
   ]
  },
  {
   "cell_type": "code",
   "execution_count": 2,
   "metadata": {},
   "outputs": [
    {
     "ename": "NameError",
     "evalue": "name 'trajectories_sampler1' is not defined",
     "output_type": "error",
     "traceback": [
      "\u001b[0;31m---------------------------------------------------------------------------\u001b[0m",
      "\u001b[0;31mNameError\u001b[0m                                 Traceback (most recent call last)",
      "Cell \u001b[0;32mIn[2], line 6\u001b[0m\n\u001b[1;32m      2\u001b[0m plt\u001b[39m.\u001b[39mrcParams[\u001b[39m\"\u001b[39m\u001b[39mfigure.figsize\u001b[39m\u001b[39m\"\u001b[39m] \u001b[39m=\u001b[39m [\u001b[39m4\u001b[39m, \u001b[39m4\u001b[39m]\n\u001b[1;32m      4\u001b[0m n_per_idx \u001b[39m=\u001b[39m \u001b[39m6\u001b[39m\n\u001b[0;32m----> 6\u001b[0m trajectories \u001b[39m=\u001b[39m trajectories_sampler1\u001b[39m.\u001b[39msample(n_trajectories\u001b[39m=\u001b[39m\u001b[39m4\u001b[39m \u001b[39m*\u001b[39m n_per_idx, idxs\u001b[39m=\u001b[39mtorch\u001b[39m.\u001b[39mIntTensor([\u001b[39m0\u001b[39m] \u001b[39m*\u001b[39m n_per_idx \u001b[39m+\u001b[39m [\u001b[39m1\u001b[39m] \u001b[39m*\u001b[39m n_per_idx \u001b[39m+\u001b[39m [\u001b[39m2\u001b[39m] \u001b[39m*\u001b[39m n_per_idx \u001b[39m+\u001b[39m [\u001b[39m3\u001b[39m] \u001b[39m*\u001b[39m n_per_idx))\n\u001b[1;32m      9\u001b[0m data \u001b[39m=\u001b[39m trajectories\u001b[39m.\u001b[39mlast_states\u001b[39m.\u001b[39mstates_tensor\u001b[39m.\u001b[39mnumpy()\n\u001b[1;32m     10\u001b[0m \u001b[39m# Adding noise to see more points\u001b[39;00m\n",
      "\u001b[0;31mNameError\u001b[0m: name 'trajectories_sampler1' is not defined"
     ]
    }
   ],
   "source": [
    "# Set the figure size\n",
    "plt.rcParams[\"figure.figsize\"] = [4, 4]\n",
    "\n",
    "n_per_idx = 6\n",
    "\n",
    "trajectories = trajectories_sampler1.sample(n_trajectories=4 * n_per_idx, idxs=torch.IntTensor([0] * n_per_idx + [1] * n_per_idx + [2] * n_per_idx + [3] * n_per_idx))\n",
    "\n",
    "\n",
    "data = trajectories.last_states.states_tensor.numpy()\n",
    "# Adding noise to see more points\n",
    "data = data.astype(\"float64\")\n",
    "data[0] += np.random.uniform(low=0, high=0.5, size=data[0].size)\n",
    "data[1] += np.random.uniform(low=0, high=0.5, size=data[1].size)\n",
    "\n",
    "\n",
    "plt.scatter(x=data[:, 0], y=data[:, 1], c=[0.25]*n_per_idx + [0.5] * n_per_idx + [0.75] * n_per_idx + [1] * n_per_idx, s=[20] * 4 * n_per_idx)\n",
    "plt.plot()\n",
    "plt.xlim(0, 8)\n",
    "plt.ylim(0, 8)\n",
    "plt.show()"
   ]
  },
  {
   "attachments": {},
   "cell_type": "markdown",
   "metadata": {},
   "source": [
    "**Testing that assumption + implementation sanity check**\n",
    "\n",
    "In a hypergrid of height 4 and base reward R0=0, the reward function only rewards points (0, 0), (3, 0), (3, 0) and (3, 3). This way, the policy learned with idx=0 won't explore and will always sample (0, 0). The \"other policies\" will then have to each find a new single point to sample from.\n"
   ]
  },
  {
   "cell_type": "code",
   "execution_count": 2,
   "metadata": {},
   "outputs": [
    {
     "name": "stderr",
     "output_type": "stream",
     "text": [
      "100%|██████████| 1000/1000 [00:09<00:00, 103.66it/s, loss=0.00641]\n"
     ]
    }
   ],
   "source": [
    "batch_size = 4\n",
    "\n",
    "env = IdxAwareHyperGrid(ndim=2, height=4, R0=0.00, preprocessor_name=\"OneHot\")\n",
    "\n",
    "logit_PF = LogitPFEstimator(env=env, module_name=\"IdxAwareNeuralNet\", batch_size=batch_size)\n",
    "\n",
    "logit_PB = LogitPBEstimator(\n",
    "    env=env,\n",
    "    module_name=\"IdxAwareNeuralNet\",\n",
    "    torso=logit_PF.module.torso,  # To share parameters between PF and PB\n",
    "    batch_size=batch_size,\n",
    "    embedding_layer=logit_PF.module.idx_embedding_layer, # To share parameters between PF and PB\n",
    ")\n",
    "logZ = LogZEstimator(torch.tensor(0.0))\n",
    "\n",
    "parametrization = TBParametrization(logit_PF, logit_PB, logZ)\n",
    "\n",
    "actions_sampler = DiscreteActionsSampler(estimator=logit_PF)\n",
    "trajectories_sampler = TrajectoriesSampler(env=env, actions_sampler=actions_sampler)\n",
    "\n",
    "loss_fn = TrajectoryBalance(parametrization=parametrization)\n",
    "\n",
    "params = [\n",
    "    {\n",
    "        \"params\": [\n",
    "            val for key, val in parametrization.parameters.items() if key != \"logZ\"\n",
    "        ],\n",
    "        \"lr\": 0.001,\n",
    "    },\n",
    "    {\"params\": [parametrization.parameters[\"logZ\"]], \"lr\": 0.1},\n",
    "]\n",
    "optimizer = torch.optim.Adam(params)\n",
    "\n",
    "for i in (pbar := tqdm(range(1000))):\n",
    "    idxs = torch.arange(batch_size, device=env.device)\n",
    "    trajectories = trajectories_sampler.sample(n_trajectories=batch_size, idxs=idxs)\n",
    "    optimizer.zero_grad()\n",
    "    loss = loss_fn(trajectories, idxs)\n",
    "    loss.backward()\n",
    "    optimizer.step()\n",
    "    if i % 25 == 0:\n",
    "        pbar.set_postfix({\"loss\": loss.item()})\n",
    "\n",
    "trajectories_sampler2 = trajectories_sampler"
   ]
  },
  {
   "cell_type": "code",
   "execution_count": 6,
   "metadata": {},
   "outputs": [
    {
     "data": {
      "image/png": "[encoded data removed]",
      "text/plain": [
       "<Figure size 400x400 with 1 Axes>"
      ]
     },
     "metadata": {},
     "output_type": "display_data"
    }
   ],
   "source": [
    "# Set the figure size\n",
    "plt.rcParams[\"figure.figsize\"] = [4, 4]\n",
    "\n",
    "n_per_idx = 4\n",
    "\n",
    "trajectories = trajectories_sampler2.sample(n_trajectories=4 * n_per_idx, idxs=torch.IntTensor([0] * n_per_idx + [1] * n_per_idx + [2] * n_per_idx + [3] * n_per_idx))\n",
    "\n",
    "\n",
    "data = trajectories.last_states.states_tensor.numpy()\n",
    "# Adding noise to see more points\n",
    "data = data.astype(\"float64\")\n",
    "data[0] += np.random.uniform(low=0, high=0.5, size=data[0].size)\n",
    "data[1] += np.random.uniform(low=0, high=0.5, size=data[1].size)\n",
    "\n",
    "\n",
    "plt.scatter(x=data[:, 0], y=data[:, 1], c=[0.25]*n_per_idx + [0.5] * n_per_idx + [0.75] * n_per_idx + [1] * n_per_idx, s=[20] * 4 * n_per_idx)\n",
    "plt.plot()\n",
    "plt.xlim(0, 4)\n",
    "plt.ylim(0, 4)\n",
    "plt.show()"
   ]
  },
  {
   "attachments": {},
   "cell_type": "markdown",
   "metadata": {},
   "source": [
    "**Test custom reward function for 8x8 grid**\n",
    "\n",
    "First make reward function to sparse for basic GFN to find all the modes"
   ]
  },
  {
   "cell_type": "code",
   "execution_count": 8,
   "metadata": {},
   "outputs": [
    {
     "name": "stderr",
     "output_type": "stream",
     "text": [
      " 13%|█▎        | 1298/10000 [00:15<01:41, 85.81it/s, loss=5.76e-5]  \n"
     ]
    },
    {
     "ename": "KeyboardInterrupt",
     "evalue": "",
     "output_type": "error",
     "traceback": [
      "\u001b[0;31m---------------------------------------------------------------------------\u001b[0m",
      "\u001b[0;31mKeyboardInterrupt\u001b[0m                         Traceback (most recent call last)",
      "Cell \u001b[0;32mIn[8], line 41\u001b[0m\n\u001b[1;32m     39\u001b[0m trajectories \u001b[39m=\u001b[39m trajectories_sampler\u001b[39m.\u001b[39msample(n_trajectories\u001b[39m=\u001b[39mbatch_size \u001b[39m*\u001b[39m n_per_idxs)\n\u001b[1;32m     40\u001b[0m optimizer\u001b[39m.\u001b[39mzero_grad()\n\u001b[0;32m---> 41\u001b[0m loss \u001b[39m=\u001b[39m loss_fn(trajectories)\n\u001b[1;32m     42\u001b[0m loss\u001b[39m.\u001b[39mbackward()\n\u001b[1;32m     43\u001b[0m optimizer\u001b[39m.\u001b[39mstep()\n",
      "File \u001b[0;32m~/scratch/gfn/src/gfn/losses/trajectory_balance.py:77\u001b[0m, in \u001b[0;36mTrajectoryBalance.__call__\u001b[0;34m(self, trajectories, idxs)\u001b[0m\n\u001b[1;32m     76\u001b[0m \u001b[39mdef\u001b[39;00m \u001b[39m__call__\u001b[39m(\u001b[39mself\u001b[39m, trajectories: Trajectories, idxs\u001b[39m=\u001b[39m\u001b[39mNone\u001b[39;00m) \u001b[39m-\u001b[39m\u001b[39m>\u001b[39m LossTensor:\n\u001b[0;32m---> 77\u001b[0m     _, _, scores \u001b[39m=\u001b[39m \u001b[39mself\u001b[39;49m\u001b[39m.\u001b[39;49mget_scores(trajectories, idxs)\n\u001b[1;32m     78\u001b[0m     loss \u001b[39m=\u001b[39m (scores \u001b[39m+\u001b[39m \u001b[39mself\u001b[39m\u001b[39m.\u001b[39mparametrization\u001b[39m.\u001b[39mlogZ\u001b[39m.\u001b[39mtensor)\u001b[39m.\u001b[39mpow(\u001b[39m2\u001b[39m)\u001b[39m.\u001b[39mmean()\n\u001b[1;32m     79\u001b[0m     \u001b[39mif\u001b[39;00m torch\u001b[39m.\u001b[39misnan(loss):\n",
      "File \u001b[0;32m~/scratch/gfn/src/gfn/losses/trajectory_balance.py:58\u001b[0m, in \u001b[0;36mTrajectoryBalance.get_scores\u001b[0;34m(self, trajectories, idxs)\u001b[0m\n\u001b[1;32m     54\u001b[0m \u001b[39mdef\u001b[39;00m \u001b[39mget_scores\u001b[39m(\n\u001b[1;32m     55\u001b[0m     \u001b[39mself\u001b[39m, trajectories: Trajectories, idxs\u001b[39m=\u001b[39m\u001b[39mNone\u001b[39;00m\n\u001b[1;32m     56\u001b[0m ) \u001b[39m-\u001b[39m\u001b[39m>\u001b[39m Tuple[ScoresTensor, ScoresTensor, ScoresTensor]:\n\u001b[0;32m---> 58\u001b[0m     log_pf_trajectories, log_pb_trajectories \u001b[39m=\u001b[39m \u001b[39mself\u001b[39;49m\u001b[39m.\u001b[39;49mget_pfs_and_pbs(\n\u001b[1;32m     59\u001b[0m         trajectories, idxs\u001b[39m=\u001b[39;49midxs, no_pf\u001b[39m=\u001b[39;49m\u001b[39mself\u001b[39;49m\u001b[39m.\u001b[39;49mon_policy\n\u001b[1;32m     60\u001b[0m     )\n\u001b[1;32m     61\u001b[0m     \u001b[39mif\u001b[39;00m \u001b[39mself\u001b[39m\u001b[39m.\u001b[39mon_policy:\n\u001b[1;32m     62\u001b[0m         log_pf_trajectories \u001b[39m=\u001b[39m trajectories\u001b[39m.\u001b[39mlog_probs\n",
      "\u001b[0;31mKeyboardInterrupt\u001b[0m: "
     ]
    }
   ],
   "source": [
    "batch_size = 4\n",
    "\n",
    "env = HyperGrid(ndim=2, height=8, R0=0, preprocessor_name=\"OneHot\", device_str=device_str)\n",
    "\n",
    "logit_PF = LogitPFEstimator(env=env, module_name=\"NeuralNet\")\n",
    "\n",
    "logit_PB = LogitPBEstimator(\n",
    "    env=env,\n",
    "    module_name=\"NeuralNet\",\n",
    "    torso=logit_PF.module.torso,  # To share parameters between PF and PB\n",
    ")\n",
    "logZ = LogZEstimator(torch.tensor(0.0))\n",
    "\n",
    "logit_PF.module.to(torch.device(device_str))\n",
    "logit_PB.module.to(torch.device(device_str))\n",
    "\n",
    "\n",
    "parametrization = TBParametrization(logit_PF, logit_PB, logZ)\n",
    "\n",
    "actions_sampler = DiscreteActionsSampler(estimator=logit_PF)\n",
    "trajectories_sampler = TrajectoriesSampler(env=env, actions_sampler=actions_sampler)\n",
    "\n",
    "loss_fn = TrajectoryBalance(parametrization=parametrization)\n",
    "\n",
    "params = [\n",
    "    {\n",
    "        \"params\": [\n",
    "            val for key, val in parametrization.parameters.items() if key != \"logZ\"\n",
    "        ],\n",
    "        \"lr\": 0.001,\n",
    "    },\n",
    "    {\"params\": [parametrization.parameters[\"logZ\"]], \"lr\": 0.1},\n",
    "]\n",
    "optimizer = torch.optim.Adam(params)\n",
    "\n",
    "n_per_idxs = 1\n",
    "\n",
    "for i in (pbar := tqdm(range(10000))):\n",
    "    trajectories = trajectories_sampler.sample(n_trajectories=batch_size * n_per_idxs)\n",
    "    optimizer.zero_grad()\n",
    "    loss = loss_fn(trajectories)\n",
    "    loss.backward()\n",
    "    optimizer.step()\n",
    "    if i % 25 == 0:\n",
    "        pbar.set_postfix({\"loss\": loss.item()})\n",
    "\n",
    "trajectories_sampler4 = trajectories_sampler"
   ]
  },
  {
   "cell_type": "code",
   "execution_count": 40,
   "metadata": {},
   "outputs": [
    {
     "data": {
      "image/png": "[encoded data removed]",
      "text/plain": [
       "<Figure size 400x400 with 1 Axes>"
      ]
     },
     "metadata": {},
     "output_type": "display_data"
    }
   ],
   "source": [
    "# Set the figure size\n",
    "plt.rcParams[\"figure.figsize\"] = [4, 4]\n",
    "\n",
    "n_per_idx = 100\n",
    "\n",
    "trajectories = trajectories_sampler4.sample(n_trajectories=4 * n_per_idx)\n",
    "\n",
    "data = trajectories.last_states.states_tensor.cpu().numpy()\n",
    "# Adding noise to see more points\n",
    "data = data.astype(\"float64\")\n",
    "data[0] += np.random.uniform(low=-0.25, high=0.25, size=data[0].size)\n",
    "data[1] += np.random.uniform(low=-0.25, high=0.25, size=data[1].size)\n",
    "\n",
    "\n",
    "plt.scatter(x=data[:, 0], y=data[:, 1])\n",
    "plt.xlim(0, 8)\n",
    "plt.ylim(0, 8)\n",
    "plt.plot()\n",
    "plt.show()"
   ]
  },
  {
   "attachments": {},
   "cell_type": "markdown",
   "metadata": {},
   "source": [
    "Then use a GFN that partitions the state space perfectly"
   ]
  },
  {
   "cell_type": "code",
   "execution_count": 4,
   "metadata": {},
   "outputs": [
    {
     "data": {
      "text/html": [
       "Finishing last run (ID:q330ib3k) before initializing another..."
      ],
      "text/plain": [
       "<IPython.core.display.HTML object>"
      ]
     },
     "metadata": {},
     "output_type": "display_data"
    },
    {
     "data": {
      "text/html": [
       "Waiting for W&B process to finish... <strong style=\"color:green\">(success).</strong>"
      ],
      "text/plain": [
       "<IPython.core.display.HTML object>"
      ]
     },
     "metadata": {},
     "output_type": "display_data"
    },
    {
     "data": {
      "text/html": [
       "<style>\n",
       "    table.wandb td:nth-child(1) { padding: 0 10px; text-align: left ; width: auto;} td:nth-child(2) {text-align: left ; width: 100%}\n",
       "    .wandb-row { display: flex; flex-direction: row; flex-wrap: wrap; justify-content: flex-start; width: 100% }\n",
       "    .wandb-col { display: flex; flex-direction: column; flex-basis: 100%; flex: 1; padding: 10px; }\n",
       "    </style>\n",
       "<div class=\"wandb-row\"><div class=\"wandb-col\"><h3>Run history:</h3><br/><table class=\"wandb\"><tr><td>l1_dist</td><td>█▆▅▅▄▄▄▄▄▄▄▄▄▄▃▃▃▃▃▃▃▃▃▃▃▂▂▂▂▂▂▂▁▁▁▁▁▁▁▁</td></tr><tr><td>logZ_diff</td><td>█▅▄▃▄▃▃▃▃▃▃▃▃▃▃▃▃▃▂▂▂▂▂▂▂▂▁▁▁▁▁▁▁▁▁▁▁▁▁▁</td></tr><tr><td>loss</td><td>█▅▃▃▃▃▂▃▂▃▂▂▃▂▂▂▂▂▃▂▂▁▂▂▂▁▁▁▁▁▁▂▁▁▁▁▁▁▁▁</td></tr><tr><td>states_visited</td><td>▁▁▁▂▂▂▂▂▂▃▃▃▃▃▄▄▄▄▄▄▅▅▅▅▅▅▆▆▆▆▆▇▇▇▇▇▇███</td></tr></table><br/></div><div class=\"wandb-col\"><h3>Run summary:</h3><br/><table class=\"wandb\"><tr><td>l1_dist</td><td>0.00023</td></tr><tr><td>logZ_diff</td><td>0.57093</td></tr><tr><td>loss</td><td>0.52595</td></tr><tr><td>states_visited</td><td>64000</td></tr></table><br/></div></div>"
      ],
      "text/plain": [
       "<IPython.core.display.HTML object>"
      ]
     },
     "metadata": {},
     "output_type": "display_data"
    },
    {
     "data": {
      "text/html": [
       " View run <strong style=\"color:#cdcd00\">happy-spaceship-3</strong> at: <a href='https://wandb.ai/vincent-quirion/8x8x8x8_compare_states_visited/runs/q330ib3k' target=\"_blank\">https://wandb.ai/vincent-quirion/8x8x8x8_compare_states_visited/runs/q330ib3k</a><br/>Synced 6 W&B file(s), 0 media file(s), 0 artifact file(s) and 0 other file(s)"
      ],
      "text/plain": [
       "<IPython.core.display.HTML object>"
      ]
     },
     "metadata": {},
     "output_type": "display_data"
    },
    {
     "data": {
      "text/html": [
       "Find logs at: <code>./wandb/run-20230219_185642-q330ib3k/logs</code>"
      ],
      "text/plain": [
       "<IPython.core.display.HTML object>"
      ]
     },
     "metadata": {},
     "output_type": "display_data"
    },
    {
     "data": {
      "text/html": [
       "Successfully finished last run (ID:q330ib3k). Initializing new run:<br/>"
      ],
      "text/plain": [
       "<IPython.core.display.HTML object>"
      ]
     },
     "metadata": {},
     "output_type": "display_data"
    },
    {
     "data": {
      "text/html": [
       "Tracking run with wandb version 0.13.10"
      ],
      "text/plain": [
       "<IPython.core.display.HTML object>"
      ]
     },
     "metadata": {},
     "output_type": "display_data"
    },
    {
     "data": {
      "text/html": [
       "Run data is saved locally in <code>/home/mila/v/vincent.quirion/scratch/gfn/scripts/wandb/run-20230219_190413-v8ds2wci</code>"
      ],
      "text/plain": [
       "<IPython.core.display.HTML object>"
      ]
     },
     "metadata": {},
     "output_type": "display_data"
    },
    {
     "data": {
      "text/html": [
       "Syncing run <strong><a href='https://wandb.ai/vincent-quirion/8x8x8x8_compare_states_visited/runs/v8ds2wci' target=\"_blank\">rich-bush-4</a></strong> to <a href='https://wandb.ai/vincent-quirion/8x8x8x8_compare_states_visited' target=\"_blank\">Weights & Biases</a> (<a href='https://wandb.me/run' target=\"_blank\">docs</a>)<br/>"
      ],
      "text/plain": [
       "<IPython.core.display.HTML object>"
      ]
     },
     "metadata": {},
     "output_type": "display_data"
    },
    {
     "data": {
      "text/html": [
       " View project at <a href='https://wandb.ai/vincent-quirion/8x8x8x8_compare_states_visited' target=\"_blank\">https://wandb.ai/vincent-quirion/8x8x8x8_compare_states_visited</a>"
      ],
      "text/plain": [
       "<IPython.core.display.HTML object>"
      ]
     },
     "metadata": {},
     "output_type": "display_data"
    },
    {
     "data": {
      "text/html": [
       " View run at <a href='https://wandb.ai/vincent-quirion/8x8x8x8_compare_states_visited/runs/v8ds2wci' target=\"_blank\">https://wandb.ai/vincent-quirion/8x8x8x8_compare_states_visited/runs/v8ds2wci</a>"
      ],
      "text/plain": [
       "<IPython.core.display.HTML object>"
      ]
     },
     "metadata": {},
     "output_type": "display_data"
    },
    {
     "name": "stderr",
     "output_type": "stream",
     "text": [
      "100%|██████████| 10000/10000 [22:35<00:00,  7.38it/s, loss=0.0385, l1 dist=0.000183]\n"
     ]
    }
   ],
   "source": [
    "gfn.config.batch_size = batch_size = 4\n",
    "n_validation_samples = batch_size*25 * 100\n",
    "wandb.init(project=\"8x8x8x8_compare_states_visited\")\n",
    "\n",
    "env = IdxAwareHyperGrid(ndim=4, height=8, reward=\"bruteforce\", preprocessor_name=\"OneHot\", device_str=device_str)\n",
    "# env = HyperGrid(ndim=4, height=8, preprocessor_name=\"OneHot\", device_str=device_str)\n",
    "\n",
    "logit_PF = LogitPFEstimator(env=env, module_name=\"IdxAwareNeuralNet\", batch_size=batch_size)\n",
    "# logit_PF = LogitPFEstimator(env=env, module_name=\"NeuralNet\")\n",
    "\n",
    "logit_PB = LogitPBEstimator(\n",
    "    env=env,\n",
    "    module_name=\"IdxAwareNeuralNet\",\n",
    "    # module_name=\"NeuralNet\",\n",
    "    torso=logit_PF.module.torso,  # To share parameters between PF and PB\n",
    "    batch_size=batch_size,\n",
    "    embedding_layer=logit_PF.module.idx_embedding_layer, # To share parameters between PF and PB\n",
    ")\n",
    "logZ = LogZEstimator(torch.tensor(0.0))\n",
    "\n",
    "logit_PF.module.to(torch.device(device_str))\n",
    "logit_PB.module.to(torch.device(device_str))\n",
    "\n",
    "\n",
    "parametrization = TBParametrization(logit_PF, logit_PB, logZ)\n",
    "\n",
    "actions_sampler = DiscreteActionsSampler(estimator=logit_PF)\n",
    "trajectories_sampler = TrajectoriesSampler(env=env, actions_sampler=actions_sampler)\n",
    "\n",
    "loss_fn = TrajectoryBalance(parametrization=parametrization)\n",
    "\n",
    "params = [\n",
    "    {\n",
    "        \"params\": [\n",
    "            val for key, val in parametrization.parameters.items() if key != \"logZ\"\n",
    "        ],\n",
    "        \"lr\": 0.001,\n",
    "    },\n",
    "    {\"params\": [parametrization.parameters[\"logZ\"]], \"lr\": 0.1},\n",
    "]\n",
    "optimizer = torch.optim.Adam(params)\n",
    "\n",
    "n_per_idxs = 16\n",
    "\n",
    "visited_terminating_states = (\n",
    "    env.States.from_batch_shape((0,))\n",
    ")\n",
    "states_visited = 0\n",
    "for i in (pbar := tqdm(range(10000))):\n",
    "    idxs = torch.arange(gfn.config.batch_size, device=env.device).repeat(n_per_idxs)\n",
    "    trajectories = trajectories_sampler.sample(n_trajectories=batch_size * n_per_idxs, idxs=idxs)\n",
    "    trajectories = trajectories_sampler.sample(n_trajectories=batch_size * n_per_idxs)\n",
    "\n",
    "    optimizer.zero_grad()\n",
    "    loss = loss_fn(trajectories, idxs)\n",
    "    # loss = loss_fn(trajectories)\n",
    "    loss.backward()\n",
    "    optimizer.step()\n",
    "    \n",
    "    if visited_terminating_states is not None:\n",
    "        visited_terminating_states.extend(trajectories.last_states)\n",
    "\n",
    "    states_visited += len(trajectories)\n",
    "    to_log = {\"loss\": loss.item(), \"states_visited\": states_visited}\n",
    "    wandb.log(to_log, step=i)\n",
    "\n",
    "    if i % 25 == 0:\n",
    "        validation_info = validate(\n",
    "            env, parametrization, n_validation_samples, visited_terminating_states\n",
    "        )\n",
    "        pbar.set_postfix({\"loss\": loss.item(), \"l1 dist\": validation_info[\"l1_dist\"]})\n",
    "        wandb.log(validation_info, step=i)\n",
    "\n",
    "trajectories_sampler3 = trajectories_sampler"
   ]
  },
  {
   "cell_type": "code",
   "execution_count": 13,
   "metadata": {},
   "outputs": [
    {
     "data": {
      "image/png": "[encoded data removed]",
      "text/plain": [
       "<Figure size 400x400 with 1 Axes>"
      ]
     },
     "metadata": {},
     "output_type": "display_data"
    },
    {
     "data": {
      "image/png": "[encoded data removed]",
      "text/plain": [
       "<Figure size 400x400 with 1 Axes>"
      ]
     },
     "metadata": {},
     "output_type": "display_data"
    },
    {
     "data": {
      "image/png": "[encoded data removed]",
      "text/plain": [
       "<Figure size 400x400 with 1 Axes>"
      ]
     },
     "metadata": {},
     "output_type": "display_data"
    },
    {
     "data": {
      "image/png": "[encoded data removed]",
      "text/plain": [
       "<Figure size 400x400 with 1 Axes>"
      ]
     },
     "metadata": {},
     "output_type": "display_data"
    },
    {
     "data": {
      "image/png": "[encoded data removed]",
      "text/plain": [
       "<Figure size 400x400 with 1 Axes>"
      ]
     },
     "metadata": {},
     "output_type": "display_data"
    }
   ],
   "source": [
    "# Set the figure size\n",
    "plt.rcParams[\"figure.figsize\"] = [4, 4]\n",
    "\n",
    "n_per_idx = 4\n",
    "\n",
    "trajectories = trajectories_sampler3.sample(n_trajectories=4 * n_per_idx, idxs=torch.tensor([0] * n_per_idx + [1] * n_per_idx + [2] * n_per_idx + [3] * n_per_idx, dtype=torch.int, device=env.device))\n",
    "\n",
    "\n",
    "data = trajectories.last_states.states_tensor.cpu().numpy()\n",
    "# Adding noise to see more points\n",
    "data = data.astype(\"float64\")\n",
    "data[0] += np.random.uniform(low=-0.25, high=0.25, size=data[0].size)\n",
    "data[1] += np.random.uniform(low=-0.25, high=0.25, size=data[1].size)\n",
    "\n",
    "\n",
    "plt.scatter(x=data[:, 0], y=data[:, 1], c=[0.25]*n_per_idx + [0.5] * n_per_idx + [0.75] * n_per_idx + [1] * n_per_idx, s=[20] * 4 * n_per_idx)\n",
    "plt.xlim(0, 8)\n",
    "plt.ylim(0, 8)\n",
    "plt.plot()\n",
    "plt.show()\n",
    "\n",
    "plt.scatter(x=data[:, 0][:n_per_idx], y=data[:, 1][:n_per_idx])\n",
    "plt.xlim(0, 8)\n",
    "plt.ylim(0, 8)\n",
    "plt.plot()\n",
    "plt.show()\n",
    "\n",
    "\n",
    "plt.xlim(0, 8)\n",
    "plt.ylim(0, 8)\n",
    "plt.scatter(x=data[:, 0][n_per_idx:n_per_idx*2], y=data[:, 1][n_per_idx:n_per_idx*2])\n",
    "plt.plot()\n",
    "plt.show()\n",
    "\n",
    "plt.xlim(0, 8)\n",
    "plt.ylim(0, 8)\n",
    "plt.scatter(x=data[:, 0][n_per_idx*2:n_per_idx*3], y=data[:, 1][n_per_idx*2:n_per_idx*3])\n",
    "plt.plot()\n",
    "plt.show()\n",
    "\n",
    "plt.xlim(0, 8)\n",
    "plt.ylim(0, 8)\n",
    "plt.scatter(x=data[:, 0][n_per_idx*3:n_per_idx*4], y=data[:, 1][n_per_idx*3:n_per_idx*4])\n",
    "plt.plot()\n",
    "plt.show()"
   ]
  },
  {
   "cell_type": "code",
   "execution_count": 20,
   "metadata": {},
   "outputs": [
    {
     "data": {
      "text/plain": [
       "tensor([0.0577, 0.0096, 0.0096, 0.0577, 0.0096, 0.0096, 0.0096, 0.0096, 0.0096,\n",
       "        0.0096, 0.0096, 0.0096, 0.0577, 0.0096, 0.0096, 0.0577, 0.0096, 0.0096,\n",
       "        0.0096, 0.0096, 0.0096, 0.0096, 0.0096, 0.0096, 0.0096, 0.0096, 0.0096,\n",
       "        0.0096, 0.0096, 0.0096, 0.0096, 0.0096, 0.0096, 0.0096, 0.0096, 0.0096,\n",
       "        0.0096, 0.0096, 0.0096, 0.0096, 0.0096, 0.0096, 0.0096, 0.0096, 0.0096,\n",
       "        0.0096, 0.0096, 0.0096, 0.0577, 0.0096, 0.0096, 0.0577, 0.0096, 0.0096,\n",
       "        0.0096, 0.0096, 0.0096, 0.0096, 0.0096, 0.0096, 0.0577, 0.0096, 0.0096,\n",
       "        0.0577], device='cuda:0')"
      ]
     },
     "execution_count": 20,
     "metadata": {},
     "output_type": "execute_result"
    },
    {
     "name": "stderr",
     "output_type": "stream",
     "text": [
      "wandb: ERROR Dropped streaming file chunk (see wandb/debug-internal.log)\n",
      "wandb: ERROR Dropped streaming file chunk (see wandb/debug-internal.log)\n",
      "wandb: ERROR Dropped streaming file chunk (see wandb/debug-internal.log)\n",
      "wandb: ERROR Dropped streaming file chunk (see wandb/debug-internal.log)\n",
      "wandb: ERROR Dropped streaming file chunk (see wandb/debug-internal.log)\n",
      "wandb: ERROR Dropped streaming file chunk (see wandb/debug-internal.log)\n",
      "wandb: ERROR Dropped streaming file chunk (see wandb/debug-internal.log)\n",
      "wandb: ERROR Dropped streaming file chunk (see wandb/debug-internal.log)\n",
      "wandb: ERROR Dropped streaming file chunk (see wandb/debug-internal.log)\n",
      "wandb: ERROR Dropped streaming file chunk (see wandb/debug-internal.log)\n",
      "wandb: ERROR Dropped streaming file chunk (see wandb/debug-internal.log)\n",
      "wandb: ERROR Dropped streaming file chunk (see wandb/debug-internal.log)\n",
      "wandb: ERROR Dropped streaming file chunk (see wandb/debug-internal.log)\n",
      "wandb: ERROR Dropped streaming file chunk (see wandb/debug-internal.log)\n",
      "wandb: ERROR Dropped streaming file chunk (see wandb/debug-internal.log)\n",
      "wandb: ERROR Dropped streaming file chunk (see wandb/debug-internal.log)\n",
      "wandb: ERROR Dropped streaming file chunk (see wandb/debug-internal.log)\n",
      "wandb: ERROR Dropped streaming file chunk (see wandb/debug-internal.log)\n",
      "wandb: ERROR Dropped streaming file chunk (see wandb/debug-internal.log)\n",
      "wandb: ERROR Dropped streaming file chunk (see wandb/debug-internal.log)\n",
      "wandb: ERROR Dropped streaming file chunk (see wandb/debug-internal.log)\n",
      "wandb: ERROR Dropped streaming file chunk (see wandb/debug-internal.log)\n",
      "wandb: ERROR Dropped streaming file chunk (see wandb/debug-internal.log)\n",
      "wandb: ERROR Dropped streaming file chunk (see wandb/debug-internal.log)\n",
      "wandb: ERROR Dropped streaming file chunk (see wandb/debug-internal.log)\n",
      "wandb: ERROR Dropped streaming file chunk (see wandb/debug-internal.log)\n",
      "wandb: ERROR Dropped streaming file chunk (see wandb/debug-internal.log)\n",
      "wandb: ERROR Dropped streaming file chunk (see wandb/debug-internal.log)\n",
      "wandb: ERROR Dropped streaming file chunk (see wandb/debug-internal.log)\n",
      "wandb: ERROR Dropped streaming file chunk (see wandb/debug-internal.log)\n",
      "wandb: ERROR Dropped streaming file chunk (see wandb/debug-internal.log)\n",
      "wandb: ERROR Dropped streaming file chunk (see wandb/debug-internal.log)\n",
      "wandb: ERROR Dropped streaming file chunk (see wandb/debug-internal.log)\n",
      "wandb: ERROR Dropped streaming file chunk (see wandb/debug-internal.log)\n",
      "wandb: ERROR Dropped streaming file chunk (see wandb/debug-internal.log)\n",
      "wandb: ERROR Dropped streaming file chunk (see wandb/debug-internal.log)\n",
      "wandb: ERROR Dropped streaming file chunk (see wandb/debug-internal.log)\n",
      "wandb: ERROR Dropped streaming file chunk (see wandb/debug-internal.log)\n",
      "wandb: ERROR Dropped streaming file chunk (see wandb/debug-internal.log)\n",
      "wandb: ERROR Dropped streaming file chunk (see wandb/debug-internal.log)\n",
      "wandb: ERROR Dropped streaming file chunk (see wandb/debug-internal.log)\n",
      "wandb: ERROR Dropped streaming file chunk (see wandb/debug-internal.log)\n",
      "wandb: ERROR Dropped streaming file chunk (see wandb/debug-internal.log)\n",
      "wandb: ERROR Dropped streaming file chunk (see wandb/debug-internal.log)\n",
      "wandb: ERROR Dropped streaming file chunk (see wandb/debug-internal.log)\n",
      "wandb: ERROR Dropped streaming file chunk (see wandb/debug-internal.log)\n",
      "wandb: ERROR Dropped streaming file chunk (see wandb/debug-internal.log)\n",
      "wandb: ERROR Dropped streaming file chunk (see wandb/debug-internal.log)\n",
      "wandb: ERROR Dropped streaming file chunk (see wandb/debug-internal.log)\n",
      "wandb: ERROR Dropped streaming file chunk (see wandb/debug-internal.log)\n",
      "wandb: ERROR Dropped streaming file chunk (see wandb/debug-internal.log)\n",
      "wandb: ERROR Dropped streaming file chunk (see wandb/debug-internal.log)\n",
      "wandb: ERROR Dropped streaming file chunk (see wandb/debug-internal.log)\n",
      "wandb: ERROR Dropped streaming file chunk (see wandb/debug-internal.log)\n",
      "wandb: ERROR Dropped streaming file chunk (see wandb/debug-internal.log)\n",
      "wandb: ERROR Dropped streaming file chunk (see wandb/debug-internal.log)\n",
      "wandb: ERROR Dropped streaming file chunk (see wandb/debug-internal.log)\n",
      "wandb: ERROR Dropped streaming file chunk (see wandb/debug-internal.log)\n",
      "wandb: ERROR Dropped streaming file chunk (see wandb/debug-internal.log)\n",
      "wandb: ERROR Dropped streaming file chunk (see wandb/debug-internal.log)\n",
      "wandb: ERROR Dropped streaming file chunk (see wandb/debug-internal.log)\n",
      "wandb: ERROR Dropped streaming file chunk (see wandb/debug-internal.log)\n",
      "wandb: ERROR Dropped streaming file chunk (see wandb/debug-internal.log)\n",
      "wandb: ERROR Dropped streaming file chunk (see wandb/debug-internal.log)\n",
      "wandb: ERROR Dropped streaming file chunk (see wandb/debug-internal.log)\n",
      "wandb: ERROR Dropped streaming file chunk (see wandb/debug-internal.log)\n",
      "wandb: ERROR Dropped streaming file chunk (see wandb/debug-internal.log)\n",
      "wandb: ERROR Dropped streaming file chunk (see wandb/debug-internal.log)\n",
      "wandb: ERROR Dropped streaming file chunk (see wandb/debug-internal.log)\n",
      "wandb: ERROR Dropped streaming file chunk (see wandb/debug-internal.log)\n",
      "wandb: ERROR Dropped streaming file chunk (see wandb/debug-internal.log)\n",
      "wandb: ERROR Dropped streaming file chunk (see wandb/debug-internal.log)\n",
      "wandb: ERROR Dropped streaming file chunk (see wandb/debug-internal.log)\n",
      "wandb: ERROR Dropped streaming file chunk (see wandb/debug-internal.log)\n",
      "wandb: ERROR Dropped streaming file chunk (see wandb/debug-internal.log)\n",
      "wandb: ERROR Dropped streaming file chunk (see wandb/debug-internal.log)\n",
      "wandb: ERROR Dropped streaming file chunk (see wandb/debug-internal.log)\n",
      "wandb: ERROR Dropped streaming file chunk (see wandb/debug-internal.log)\n"
     ]
    }
   ],
   "source": [
    "env = HyperGrid(ndim=3, height=4, preprocessor_name=\"OneHot\", device_str=device_str)\n",
    "env.true_dist_pmf"
   ]
  }
 ],
 "metadata": {
  "kernelspec": {
   "display_name": "gfnenv",
   "language": "python",
   "name": "python3"
  },
  "language_info": {
   "codemirror_mode": {
    "name": "ipython",
    "version": 3
   },
   "file_extension": ".py",
   "mimetype": "text/x-python",
   "name": "python",
   "nbconvert_exporter": "python",
   "pygments_lexer": "ipython3",
   "version": "3.10.9"
  },
  "orig_nbformat": 4,
  "vscode": {
   "interpreter": {
    "hash": "e747b5580585a3ca9155d41ef61626d0ea0129d6c6559ae88d24b8156d79b44d"
   }
  }
 },
 "nbformat": 4,
 "nbformat_minor": 2
}
